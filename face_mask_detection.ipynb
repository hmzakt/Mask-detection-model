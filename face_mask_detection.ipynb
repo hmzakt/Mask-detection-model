{
  "nbformat": 4,
  "nbformat_minor": 0,
  "metadata": {
    "colab": {
      "provenance": [],
      "gpuType": "T4",
      "authorship_tag": "ABX9TyPODgNuA0tG/pc8Vw9y8u3Q",
      "include_colab_link": true
    },
    "kernelspec": {
      "name": "python3",
      "display_name": "Python 3"
    },
    "language_info": {
      "name": "python"
    },
    "accelerator": "GPU"
  },
  "cells": [
    {
      "cell_type": "markdown",
      "metadata": {
        "id": "view-in-github",
        "colab_type": "text"
      },
      "source": [
        "<a href=\"https://colab.research.google.com/github/hmzakt/Mask-detection-model/blob/main/face_mask_detection.ipynb\" target=\"_parent\"><img src=\"https://colab.research.google.com/assets/colab-badge.svg\" alt=\"Open In Colab\"/></a>"
      ]
    },
    {
      "cell_type": "markdown",
      "source": [
        "# FACE-MASK DETECTION MODEL"
      ],
      "metadata": {
        "id": "oFXZhtP-jtVu"
      }
    },
    {
      "cell_type": "code",
      "execution_count": 1,
      "metadata": {
        "id": "cJsEuPHtjoKE"
      },
      "outputs": [],
      "source": [
        "# from google.colab import files\n",
        "# files.upload()"
      ]
    },
    {
      "cell_type": "code",
      "source": [
        "# Create kaggle directory and move the key\n",
        "!mkdir -p ~/.kaggle\n",
        "!cp kaggle.json ~/.kaggle/\n",
        "!chmod 600 ~/.kaggle/kaggle.json"
      ],
      "metadata": {
        "id": "JTW93kUTj78A"
      },
      "execution_count": 2,
      "outputs": []
    },
    {
      "cell_type": "code",
      "source": [
        "# Install Kaggle CLI if not already\n",
        "!pip install -q kaggle\n",
        "\n",
        "# Download dataset (example: face mask detection)\n",
        "!kaggle datasets download -d andrewmvd/face-mask-detection\n",
        "\n",
        "# Unzip it\n",
        "!unzip -q face-mask-detection.zip -d face_mask_data"
      ],
      "metadata": {
        "colab": {
          "base_uri": "https://localhost:8080/"
        },
        "id": "zA6c_uA2kEmX",
        "outputId": "f72bbeb0-78d0-4a7d-ae65-17babdbb5fce"
      },
      "execution_count": 3,
      "outputs": [
        {
          "output_type": "stream",
          "name": "stdout",
          "text": [
            "Dataset URL: https://www.kaggle.com/datasets/andrewmvd/face-mask-detection\n",
            "License(s): CC0-1.0\n",
            "face-mask-detection.zip: Skipping, found more recently modified local copy (use --force to force download)\n",
            "replace face_mask_data/annotations/maksssksksss0.xml? [y]es, [n]o, [A]ll, [N]one, [r]ename: N\n"
          ]
        }
      ]
    },
    {
      "cell_type": "code",
      "source": [
        "import torch\n",
        "from torch import nn\n",
        "from torchvision import datasets, transforms\n",
        "from torch.utils.data import dataloader\n",
        "from torchvision.transforms import ToTensor\n",
        "\n",
        "import matplotlib.pyplot as plt"
      ],
      "metadata": {
        "id": "NESLBZnwkHK5"
      },
      "execution_count": 4,
      "outputs": []
    },
    {
      "cell_type": "markdown",
      "source": [
        "## Preparing the data"
      ],
      "metadata": {
        "id": "CklGWGwwRzXl"
      }
    },
    {
      "cell_type": "code",
      "source": [
        "train_transform = transforms.Compose([\n",
        "    transforms.Resize((128,128)),\n",
        "    transforms.RandomHorizontalFlip(),\n",
        "    transforms.ToTensor(),\n",
        "    transforms.Normalize(mean=[0.485, 0.456, 0.406],\n",
        "                     std=[0.229, 0.224, 0.225])\n",
        "\n",
        "])\n",
        "\n",
        "val_transform = transforms.Compose([\n",
        "    transforms.Resize((128,128)),\n",
        "    transforms.ToTensor(),\n",
        "    transforms.Normalize(mean=[0.485, 0.456, 0.406],\n",
        "                     std=[0.229, 0.224, 0.225])\n",
        "\n",
        "])\n",
        "\n",
        "test_transform = transforms.Compose([\n",
        "    transforms.Resize((224, 224)),\n",
        "    transforms.ToTensor(),\n",
        "    transforms.Normalize(mean=[0.485, 0.456, 0.406],\n",
        "                     std=[0.229, 0.224, 0.225])\n",
        "])\n"
      ],
      "metadata": {
        "id": "eF3Ju7lmmRKC"
      },
      "execution_count": 5,
      "outputs": []
    },
    {
      "cell_type": "code",
      "source": [
        "import os\n",
        "import xml.etree.ElementTree as ET\n",
        "from PIL import Image\n",
        "\n",
        "# Paths\n",
        "IMG_DIR = 'face_mask_data/images'\n",
        "ANN_DIR = 'face_mask_data/annotations'\n",
        "OUTPUT_DIR = 'data_raw'\n",
        "\n",
        "# Create output folders\n",
        "os.makedirs(os.path.join(OUTPUT_DIR, 'with_mask'), exist_ok=True)\n",
        "os.makedirs(os.path.join(OUTPUT_DIR, 'without_mask'), exist_ok=True)\n",
        "os.makedirs(os.path.join(OUTPUT_DIR, 'mask_worn_incorrectly'), exist_ok=True)\n",
        "\n",
        "# Parse each annotation\n",
        "for ann_file in os.listdir(ANN_DIR):\n",
        "    if not ann_file.endswith('.xml'):\n",
        "        continue\n",
        "    tree = ET.parse(os.path.join(ANN_DIR, ann_file))\n",
        "    root = tree.getroot()\n",
        "\n",
        "    img_file = root.find('filename').text\n",
        "    img_path = os.path.join(IMG_DIR, img_file)\n",
        "    image = Image.open(img_path)\n",
        "\n",
        "    for i, obj in enumerate(root.findall('object')):\n",
        "        label = obj.find('name').text\n",
        "        bbox = obj.find('bndbox')\n",
        "        xmin = int(float(bbox.find('xmin').text))\n",
        "        ymin = int(float(bbox.find('ymin').text))\n",
        "        xmax = int(float(bbox.find('xmax').text))\n",
        "        ymax = int(float(bbox.find('ymax').text))\n",
        "\n",
        "        cropped_face = image.crop((xmin, ymin, xmax, ymax))\n",
        "\n",
        "        # Convert to RGB if the mode is RGBA\n",
        "        if cropped_face.mode == 'RGBA':\n",
        "            cropped_face = cropped_face.convert('RGB')\n",
        "\n",
        "        if label == 'with_mask':\n",
        "            save_path = os.path.join(OUTPUT_DIR, 'with_mask', f'{ann_file[:-4]}_{i}.jpg')\n",
        "        elif label == 'without_mask':\n",
        "            save_path = os.path.join(OUTPUT_DIR, 'without_mask', f'{ann_file[:-4]}_{i}.jpg')\n",
        "        elif label == 'mask_worn_incorrect':\n",
        "            save_path = os.path.join(OUTPUT_DIR, 'mask_worn_incorrectly', f'{ann_file[:-4]}_{i}.jpg')\n",
        "        else:\n",
        "            continue\n",
        "\n",
        "        cropped_face.save(save_path)"
      ],
      "metadata": {
        "id": "f4_SHStDqCW-"
      },
      "execution_count": 6,
      "outputs": []
    },
    {
      "cell_type": "code",
      "source": [
        "import os\n",
        "import shutil\n",
        "from sklearn.model_selection import train_test_split\n",
        "\n",
        "SOURCE_DIR = 'data_raw';\n",
        "DEST_DIR = 'data'\n",
        "\n",
        "classes = ['with_mask', 'without_mask']\n",
        "\n",
        "train_ratio = 0.8\n",
        "val_ratio = 0.1\n",
        "test_ratio = 0.1\n",
        "\n",
        "for split in ['train', 'val', 'test']:\n",
        "  for cls in classes:\n",
        "        split_path = os.path.join(DEST_DIR, split, cls)\n",
        "        os.makedirs(split_path, exist_ok=True)\n",
        "\n",
        "for cls in classes :\n",
        "  img_dir = os.path.join(SOURCE_DIR, cls)\n",
        "  all_images = [f for f in os.listdir(img_dir) if f.endswith(('.jpg', '.png'))]\n",
        "\n",
        "  train_imgs, temp_imgs = train_test_split(all_images, train_size=train_ratio, random_state=42)\n",
        "  val_imgs, test_imgs = train_test_split(temp_imgs, test_size=test_ratio/(val_ratio + test_ratio), random_state=42)\n",
        "\n",
        "  os.makedirs(os.path.join(DEST_DIR, 'train', cls), exist_ok=True)\n",
        "  os.makedirs(os.path.join(DEST_DIR, 'val', cls), exist_ok=True)\n",
        "  os.makedirs(os.path.join(DEST_DIR, 'test', cls), exist_ok=True)\n",
        "\n",
        "\n",
        "  for img in train_imgs:\n",
        "    shutil.copy(os.path.join(img_dir, img), os.path.join(DEST_DIR, 'train', cls, img))\n",
        "\n",
        "  for img in val_imgs:\n",
        "    shutil.copy(os.path.join(img_dir, img), os.path.join(DEST_DIR, 'val', cls, img))\n",
        "\n",
        "  for img in test_imgs:\n",
        "    shutil.copy(os.path.join(img_dir, img), os.path.join(DEST_DIR, 'test', cls, img))\n"
      ],
      "metadata": {
        "id": "vNcqHKkSrRbm"
      },
      "execution_count": 7,
      "outputs": []
    },
    {
      "cell_type": "code",
      "source": [
        "!find data/ -type d -name \".ipynb_checkpoints\" -exec rm -r {} +\n"
      ],
      "metadata": {
        "id": "lAj3mH0K7ip3"
      },
      "execution_count": 8,
      "outputs": []
    },
    {
      "cell_type": "code",
      "source": [
        "# loading the dataset\n",
        "DEST_DIR = 'data'\n",
        "\n",
        "train_data = datasets.ImageFolder(root=os.path.join(DEST_DIR, 'train'), transform=train_transform)\n",
        "val_data   = datasets.ImageFolder(root=os.path.join(DEST_DIR, 'val'), transform=val_transform)\n",
        "test_data  = datasets.ImageFolder(root=os.path.join(DEST_DIR, 'test'), transform=test_transform)\n"
      ],
      "metadata": {
        "id": "xmKJboAc5X23"
      },
      "execution_count": 9,
      "outputs": []
    },
    {
      "cell_type": "code",
      "source": [
        "len(train_data), len(val_data), len(test_data)"
      ],
      "metadata": {
        "colab": {
          "base_uri": "https://localhost:8080/"
        },
        "id": "4lVAxTj16FPm",
        "outputId": "e9340366-5804-42c5-9ae4-b1abc2ff243c"
      },
      "execution_count": 10,
      "outputs": [
        {
          "output_type": "execute_result",
          "data": {
            "text/plain": [
              "(3158, 395, 396)"
            ]
          },
          "metadata": {},
          "execution_count": 10
        }
      ]
    },
    {
      "cell_type": "code",
      "source": [
        "class_names = train_data.classes\n",
        "train_data.classes"
      ],
      "metadata": {
        "colab": {
          "base_uri": "https://localhost:8080/"
        },
        "id": "9Y5WEAEJ8P-f",
        "outputId": "a8109324-3868-4782-8098-c6507dd08eb2"
      },
      "execution_count": 11,
      "outputs": [
        {
          "output_type": "execute_result",
          "data": {
            "text/plain": [
              "['with_mask', 'without_mask']"
            ]
          },
          "metadata": {},
          "execution_count": 11
        }
      ]
    },
    {
      "cell_type": "code",
      "source": [
        "BATCH_SIZE = 32\n",
        "train_loader = dataloader.DataLoader(train_data, batch_size=BATCH_SIZE, shuffle=True)\n",
        "val_loader   = dataloader.DataLoader(val_data, batch_size=BATCH_SIZE, shuffle=True)\n",
        "test_loader = dataloader.DataLoader(test_data, batch_size=BATCH_SIZE, shuffle=False)"
      ],
      "metadata": {
        "id": "Le4wo-Ef8zP_"
      },
      "execution_count": 12,
      "outputs": []
    },
    {
      "cell_type": "code",
      "source": [
        "train_data"
      ],
      "metadata": {
        "colab": {
          "base_uri": "https://localhost:8080/"
        },
        "id": "9s4e_UgM9CJV",
        "outputId": "f958853d-9549-40e0-f6c6-1826f9ee7b4d"
      },
      "execution_count": 13,
      "outputs": [
        {
          "output_type": "execute_result",
          "data": {
            "text/plain": [
              "Dataset ImageFolder\n",
              "    Number of datapoints: 3158\n",
              "    Root location: data/train\n",
              "    StandardTransform\n",
              "Transform: Compose(\n",
              "               Resize(size=(128, 128), interpolation=bilinear, max_size=None, antialias=True)\n",
              "               RandomHorizontalFlip(p=0.5)\n",
              "               ToTensor()\n",
              "               Normalize(mean=[0.485, 0.456, 0.406], std=[0.229, 0.224, 0.225])\n",
              "           )"
            ]
          },
          "metadata": {},
          "execution_count": 13
        }
      ]
    },
    {
      "cell_type": "markdown",
      "source": [
        "## Visualizing the data"
      ],
      "metadata": {
        "id": "RJWYtvIBRuEh"
      }
    },
    {
      "cell_type": "code",
      "source": [
        "import matplotlib.pyplot as plt\n",
        "import numpy as np\n",
        "\n",
        "def imshow(img):\n",
        "    img = img.numpy().transpose((1, 2, 0))\n",
        "    mean = np.array([0.485, 0.456, 0.406])\n",
        "    std = np.array([0.229, 0.224, 0.225])\n",
        "    img = std * img + mean\n",
        "    img = np.clip(img, 0, 1)\n",
        "    plt.imshow(img)\n",
        "    plt.axis('off')\n",
        "    plt.show()\n",
        "\n",
        "\n",
        "images, labels = next(iter(train_loader))\n",
        "imshow(images[5])\n",
        "print(\"Label:\", train_data.classes[labels[0]])\n"
      ],
      "metadata": {
        "colab": {
          "base_uri": "https://localhost:8080/",
          "height": 423
        },
        "id": "TYu-7bFg8pBm",
        "outputId": "759b6583-5b60-48f4-b2f2-2a5d9edd92b5"
      },
      "execution_count": 14,
      "outputs": [
        {
          "output_type": "display_data",
          "data": {
            "text/plain": [
              "<Figure size 640x480 with 1 Axes>"
            ],
            "image/png": "[encoded data removed]"
          },
          "metadata": {}
        },
        {
          "output_type": "stream",
          "name": "stdout",
          "text": [
            "Label: with_mask\n"
          ]
        }
      ]
    },
    {
      "cell_type": "markdown",
      "source": [
        "## Setting up device agnostic code"
      ],
      "metadata": {
        "id": "iMtpjh7LR3-P"
      }
    },
    {
      "cell_type": "code",
      "source": [
        "device = \"cpu\"\n",
        "if torch.cuda.is_available:\n",
        "  device = \"cuda\"\n",
        "\n",
        "device"
      ],
      "metadata": {
        "id": "nOWSKq7H9Sa0",
        "colab": {
          "base_uri": "https://localhost:8080/",
          "height": 36
        },
        "outputId": "2c2d1ff5-377e-4b9b-b285-3633badfb9a5"
      },
      "execution_count": 15,
      "outputs": [
        {
          "output_type": "execute_result",
          "data": {
            "text/plain": [
              "'cuda'"
            ],
            "application/vnd.google.colaboratory.intrinsic+json": {
              "type": "string"
            }
          },
          "metadata": {},
          "execution_count": 15
        }
      ]
    },
    {
      "cell_type": "markdown",
      "source": [
        "## Preparing the model"
      ],
      "metadata": {
        "id": "AtLxdHWXR8iX"
      }
    },
    {
      "cell_type": "code",
      "source": [
        "class ResNet18Clone(nn.Module):\n",
        "  def __init__(self, num_classes = 2):\n",
        "    super().__init__()\n",
        "\n",
        "    self.stem = nn.Sequential(\n",
        "        nn.Conv2d(3, 64, kernel_size = 7, stride =2, padding = 3, bias = False),\n",
        "        nn.BatchNorm2d(64),\n",
        "        nn.ReLU(inplace = True),\n",
        "        nn.MaxPool2d(kernel_size =3, stride =2, padding = 1)\n",
        "    )\n",
        "\n",
        "    ## defining out blocks\n",
        "\n",
        "    self.layer1_block1 = self.block(64,64, stride = 1, downsample = False)\n",
        "    self.layer1_block2 = self.block(64,64, stride = 1, downsample = False)\n",
        "\n",
        "    self.layer2_block1 = self.block(64,128, stride = 2, downsample = True)\n",
        "    self.layer2_block2 = self.block(128,128, stride = 1, downsample = False)\n",
        "\n",
        "    self.layer3_block1 = self.block(128,256, stride = 2, downsample = True)\n",
        "    self.layer3_block2 = self.block(256,256, stride = 1,downsample = False)\n",
        "\n",
        "    self.layer4_block1 = self.block(256,512, stride = 2, downsample = True)\n",
        "    self.layer4_block2 = self.block(512,512, stride = 1, downsample = False)\n",
        "\n",
        "    self.avgpool = nn.AdaptiveAvgPool2d((1,1)) #pooling is used to reduce dimensions oposite to interpolation\n",
        "    self.fc = nn.Linear(512, num_classes)\n",
        "\n",
        "  def block(self, in_channels, out_channels, stride, downsample):\n",
        "    layers = nn.Sequential(\n",
        "        nn.Conv2d(in_channels, out_channels, kernel_size =3 , stride = stride, padding = 1, bias = False),\n",
        "        nn.BatchNorm2d(out_channels),\n",
        "        nn.ReLU(inplace = True),\n",
        "        nn.Conv2d(out_channels, out_channels, kernel_size =3 , stride = 1, padding = 1, bias = False),\n",
        "        nn.BatchNorm2d(out_channels)\n",
        "    )\n",
        "\n",
        "    if downsample:\n",
        "      down = nn.Sequential(\n",
        "          nn.Conv2d(in_channels, out_channels, kernel_size = 1, stride = stride, bias = False),\n",
        "          nn.BatchNorm2d(out_channels)\n",
        "      )\n",
        "    else:\n",
        "      down = nn.Identity()\n",
        "\n",
        "    return nn.ModuleDict({\"layers\" : layers, \"downsample\" : down})\n",
        "\n",
        "  def forward_block(self, x , block):\n",
        "    identity = x\n",
        "    out  = block[\"layers\"](x)\n",
        "    identity = block[\"downsample\"](identity)\n",
        "\n",
        "    return nn.ReLU(inplace = True)(out + identity)\n",
        "\n",
        "  def forward(self, x):\n",
        "    x = self.stem(x)\n",
        "    x = self.forward_block(x, self.layer1_block1)\n",
        "    x = self.forward_block(x, self.layer1_block2)\n",
        "    x = self.forward_block(x, self.layer2_block1)\n",
        "    x = self.forward_block(x, self.layer2_block2)\n",
        "    x = self.forward_block(x, self.layer3_block1)\n",
        "    x = self.forward_block(x, self.layer3_block2)\n",
        "    x = self.forward_block(x, self.layer4_block1)\n",
        "    x = self.forward_block(x, self.layer4_block2)\n",
        "\n",
        "    x = self.avgpool(x)\n",
        "    x= torch.flatten(x,1)\n",
        "    x=self.fc(x)\n",
        "\n",
        "    return x"
      ],
      "metadata": {
        "id": "qZ83O0yBw0Ig"
      },
      "execution_count": 16,
      "outputs": []
    },
    {
      "cell_type": "code",
      "source": [
        "def accuracy_fn(y_true, y_pred):\n",
        "    correct = (y_pred == y_true).sum().item()\n",
        "    acc = correct / len(y_true) * 100\n",
        "    return acc"
      ],
      "metadata": {
        "id": "IbhVCpbe8YnF"
      },
      "execution_count": 17,
      "outputs": []
    },
    {
      "cell_type": "markdown",
      "source": [
        "## Writing the training and validation function"
      ],
      "metadata": {
        "id": "81fTkZp0SAlx"
      }
    },
    {
      "cell_type": "code",
      "source": [
        "model = ResNet18Clone(num_classes=2).to(device)\n",
        "loss_fn = nn.CrossEntropyLoss()\n",
        "optimizer = torch.optim.SGD(model.parameters(), lr=0.003)"
      ],
      "metadata": {
        "id": "A5LnGzyO8_Nk"
      },
      "execution_count": 36,
      "outputs": []
    },
    {
      "cell_type": "code",
      "source": [
        "def train_step(model: torch.nn.Module,\n",
        "               data_loader: torch.utils.data.DataLoader,\n",
        "               loss_fn: torch.nn.Module,\n",
        "               optimizer: torch.optim.Optimizer,\n",
        "               accuracy_fn,\n",
        "               device: torch.device = device):\n",
        "    train_loss, train_acc = 0, 0\n",
        "    model.to(device)\n",
        "    for batch, (X, y) in enumerate(data_loader):\n",
        "        # Send data to GPU\n",
        "        X, y = X.to(device), y.to(device)\n",
        "\n",
        "        # 1. Forward pass\n",
        "        y_pred = model(X)\n",
        "\n",
        "        # 2. Calculate loss\n",
        "        loss = loss_fn(y_pred, y)\n",
        "        train_loss += loss.item()\n",
        "        train_acc += accuracy_fn(y_true=y,\n",
        "                                 y_pred=y_pred.argmax(dim=1)) # Go from logits -> pred labels\n",
        "\n",
        "        # 3. Optimizer zero grad\n",
        "        optimizer.zero_grad()\n",
        "\n",
        "        # 4. Loss backward\n",
        "        loss.backward()\n",
        "\n",
        "        # 5. Optimizer step\n",
        "        optimizer.step()\n",
        "\n",
        "    # Calculate loss and accuracy per epoch and print out what's happening\n",
        "    train_loss /= len(data_loader)\n",
        "    train_acc /= len(data_loader)\n",
        "    if(epoch%5 == 0):\n",
        "      print(f\"Train loss: {train_loss:.5f} | Train accuracy: {train_acc:.2f}%\")\n",
        "\n",
        "def val_step(data_loader: torch.utils.data.DataLoader,\n",
        "              model: torch.nn.Module,\n",
        "              loss_fn: torch.nn.Module,\n",
        "              accuracy_fn,\n",
        "              device: torch.device = device):\n",
        "    val_loss, val_acc = 0, 0\n",
        "    model.to(device)\n",
        "    model.eval()\n",
        "\n",
        "    with torch.inference_mode():\n",
        "        for X, y in data_loader:\n",
        "            # Send data to GPU\n",
        "            X, y = X.to(device), y.to(device)\n",
        "\n",
        "            # 1. Forward pass\n",
        "            val_pred = model(X)\n",
        "\n",
        "            # 2. Calculate loss and accuracy\n",
        "            val_loss += loss_fn(val_pred, y).item()\n",
        "            val_acc += accuracy_fn(y_true=y,\n",
        "                y_pred=val_pred.argmax(dim=1) # Go from logits -> pred labels\n",
        "            )\n",
        "\n",
        "        # Adjust metrics and print out\n",
        "        val_loss /= len(data_loader)\n",
        "        val_acc /= len(data_loader)\n",
        "        if(epoch%5 == 0):\n",
        "          print(f\"Test loss: {val_loss:.5f} | Test accuracy: {val_acc:.2f}%\\n\")"
      ],
      "metadata": {
        "id": "ovLnHiE3ATYG"
      },
      "execution_count": 19,
      "outputs": []
    },
    {
      "cell_type": "markdown",
      "source": [
        "## Writing and implementing the training loop"
      ],
      "metadata": {
        "id": "tejW6mc2SFC-"
      }
    },
    {
      "cell_type": "code",
      "source": [
        "# writing the training loop\n",
        "epochs = 60 # running two times so total epochs = 120\n",
        "for epoch in (range(epochs)):\n",
        "    if(epoch%5 == 0):\n",
        "      print(f\"Epoch: {epoch}\\n---------\")\n",
        "    train_step(data_loader=train_loader,\n",
        "        model=model,\n",
        "        loss_fn=loss_fn,\n",
        "        optimizer=optimizer,\n",
        "        accuracy_fn=accuracy_fn,\n",
        "        device=device\n",
        "    )\n",
        "    val_step(data_loader=val_loader,\n",
        "        model=model,\n",
        "        loss_fn=loss_fn,\n",
        "        accuracy_fn=accuracy_fn,\n",
        "        device=device\n",
        "    )"
      ],
      "metadata": {
        "colab": {
          "base_uri": "https://localhost:8080/"
        },
        "id": "T6m-LTLE9Z2B",
        "outputId": "bf81dde0-07bd-4ec7-9c53-8968777cedd8"
      },
      "execution_count": 41,
      "outputs": [
        {
          "output_type": "stream",
          "name": "stdout",
          "text": [
            "Epoch: 0\n",
            "---------\n",
            "Train loss: 0.00010 | Train accuracy: 100.00%\n",
            "Test loss: 0.12250 | Test accuracy: 98.32%\n",
            "\n",
            "Epoch: 5\n",
            "---------\n",
            "Train loss: 0.00008 | Train accuracy: 100.00%\n",
            "Test loss: 0.12439 | Test accuracy: 98.32%\n",
            "\n",
            "Epoch: 10\n",
            "---------\n",
            "Train loss: 0.00006 | Train accuracy: 100.00%\n",
            "Test loss: 0.12677 | Test accuracy: 98.32%\n",
            "\n",
            "Epoch: 15\n",
            "---------\n",
            "Train loss: 0.00006 | Train accuracy: 100.00%\n",
            "Test loss: 0.12949 | Test accuracy: 98.32%\n",
            "\n",
            "Epoch: 20\n",
            "---------\n",
            "Train loss: 0.00005 | Train accuracy: 100.00%\n",
            "Test loss: 0.15578 | Test accuracy: 97.86%\n",
            "\n",
            "Epoch: 25\n",
            "---------\n",
            "Train loss: 0.00004 | Train accuracy: 100.00%\n",
            "Test loss: 0.13359 | Test accuracy: 98.32%\n",
            "\n",
            "Epoch: 30\n",
            "---------\n",
            "Train loss: 0.00004 | Train accuracy: 100.00%\n",
            "Test loss: 0.13681 | Test accuracy: 98.32%\n",
            "\n",
            "Epoch: 35\n",
            "---------\n",
            "Train loss: 0.00003 | Train accuracy: 100.00%\n",
            "Test loss: 0.13723 | Test accuracy: 98.32%\n",
            "\n",
            "Epoch: 40\n",
            "---------\n",
            "Train loss: 0.00003 | Train accuracy: 100.00%\n",
            "Test loss: 0.19061 | Test accuracy: 97.86%\n",
            "\n",
            "Epoch: 45\n",
            "---------\n",
            "Train loss: 0.00003 | Train accuracy: 100.00%\n",
            "Test loss: 0.13973 | Test accuracy: 98.32%\n",
            "\n",
            "Epoch: 50\n",
            "---------\n",
            "Train loss: 0.00002 | Train accuracy: 100.00%\n",
            "Test loss: 0.14138 | Test accuracy: 98.32%\n",
            "\n",
            "Epoch: 55\n",
            "---------\n",
            "Train loss: 0.00002 | Train accuracy: 100.00%\n",
            "Test loss: 0.14267 | Test accuracy: 98.32%\n",
            "\n"
          ]
        }
      ]
    },
    {
      "cell_type": "markdown",
      "source": [
        "## Evaluating the model"
      ],
      "metadata": {
        "id": "OBLaRrBjSie1"
      }
    },
    {
      "cell_type": "code",
      "source": [
        "def eval_model(model: torch.nn.Module,\n",
        "               data_loader: torch.utils.data.DataLoader,\n",
        "               loss_fn: torch.nn.Module,\n",
        "               accuracy_fn):\n",
        "    loss, acc = 0, 0\n",
        "    model.eval()\n",
        "    with torch.inference_mode():\n",
        "        for X, y in data_loader:\n",
        "            # Send data to the same device as the model\n",
        "            X, y = X.to(model.parameters().__next__().device), y.to(model.parameters().__next__().device)\n",
        "\n",
        "            # Make predictions with the model\n",
        "            y_pred = model(X)\n",
        "\n",
        "            # Accumulate the loss and accuracy values per batch\n",
        "            loss += loss_fn(y_pred, y)\n",
        "            acc += accuracy_fn(y_true=y,\n",
        "                                y_pred=y_pred.argmax(dim=1)) # For accuracy, need the prediction labels (logits -> pred_prob -> pred_labels)\n",
        "\n",
        "        # Scale loss and acc to find the average loss/acc per batch\n",
        "        loss /= len(data_loader)\n",
        "        acc /= len(data_loader)\n",
        "\n",
        "    return {\"model_name\": model.__class__.__name__, # only works when model was created with a class\n",
        "            \"model_loss\": loss.item(),\n",
        "            \"model_acc\": acc}"
      ],
      "metadata": {
        "id": "GhSjBi4xSt2Q"
      },
      "execution_count": 52,
      "outputs": []
    },
    {
      "cell_type": "code",
      "source": [
        "model_results = eval_model(\n",
        "    model=model,\n",
        "    data_loader=test_loader,\n",
        "    loss_fn=loss_fn,\n",
        "    accuracy_fn=accuracy_fn\n",
        ")\n",
        "\n",
        "model_results"
      ],
      "metadata": {
        "colab": {
          "base_uri": "https://localhost:8080/"
        },
        "id": "Qpl9QYY2Sl39",
        "outputId": "14d54b84-5939-4c9a-e244-0aee1a295f04"
      },
      "execution_count": 53,
      "outputs": [
        {
          "output_type": "execute_result",
          "data": {
            "text/plain": [
              "{'model_name': 'ResNet18Clone',\n",
              " 'model_loss': 0.351777046918869,\n",
              " 'model_acc': 93.34935897435898}"
            ]
          },
          "metadata": {},
          "execution_count": 53
        }
      ]
    },
    {
      "cell_type": "markdown",
      "source": [
        "## Plotting the prediction matrix"
      ],
      "metadata": {
        "id": "MHHMpP14SQJ_"
      }
    },
    {
      "cell_type": "code",
      "source": [
        "from tqdm.auto import tqdm\n",
        "\n",
        "y_preds = []\n",
        "model.eval()\n",
        "with torch.inference_mode():\n",
        "  for X, y in tqdm(test_loader, desc=\"Making predictions\"):\n",
        "    # Send data and targets to target device\n",
        "    X, y = X.to(device), y.to(device)\n",
        "    # Do the forward pass\n",
        "    y_logit = model(X)\n",
        "    # Turn predictions from logits -> prediction probabilities -> predictions labels\n",
        "    y_pred = torch.softmax(y_logit, dim=1).argmax(dim=1) # note: perform softmax on the \"logits\" dimension, not \"batch\" dimension (in this case we have a batch size of 32, so can perform on dim=1)\n",
        "    # Put predictions on CPU for evaluation\n",
        "    y_preds.append(y_pred.cpu())\n",
        "# Concatenate list of predictions into a tensor\n",
        "y_pred_tensor = torch.cat(y_preds)"
      ],
      "metadata": {
        "colab": {
          "base_uri": "https://localhost:8080/",
          "height": 49,
          "referenced_widgets": [
            "569682bb98a249f3a34fa206e3f5a2d2",
            "73e0fa7a3f56473d9ff0d9bea7bb61ec",
            "9a17abd9b925461ea34a98adfa52d183",
            "2687e87b8a7f4a4fbb259fff39743d65",
            "a496fe60190d41cb8be6b4ed492aa2a2",
            "19b7ca0e8d9440bbb4ab9ea728d3134e",
            "68a09e196a384da88865437af6a0fa2b",
            "4f8250870d8a42b393c10eb8403038ce",
            "6898254a5a4b40f9823c4aee83de20a1",
            "a93549e1eaa64898a911832cd3402557",
            "8dca95ad19d142d3ac606714ac8bf149"
          ]
        },
        "id": "HDh8tWJAF7ft",
        "outputId": "c0003a5b-bc2d-4080-a604-3b3d36147e86"
      },
      "execution_count": 32,
      "outputs": [
        {
          "output_type": "display_data",
          "data": {
            "text/plain": [
              "Making predictions:   0%|          | 0/13 [00:00<?, ?it/s]"
            ],
            "application/vnd.jupyter.widget-view+json": {
              "version_major": 2,
              "version_minor": 0,
              "model_id": "569682bb98a249f3a34fa206e3f5a2d2"
            }
          },
          "metadata": {}
        }
      ]
    },
    {
      "cell_type": "code",
      "source": [
        "try:\n",
        "    import torchmetrics, mlxtend\n",
        "    print(f\"mlxtend version: {mlxtend.__version__}\")\n",
        "    assert int(mlxtend.__version__.split(\".\")[1]) >= 19, \"mlxtend verison should be 0.19.0 or higher\"\n",
        "except:\n",
        "    !pip install -q torchmetrics -U mlxtend # <- Note: If you're using Google Colab, this may require restarting the runtime\n",
        "    import torchmetrics, mlxtend\n",
        "    print(f\"mlxtend version: {mlxtend.__version__}\")"
      ],
      "metadata": {
        "colab": {
          "base_uri": "https://localhost:8080/"
        },
        "id": "_truJumiGlZR",
        "outputId": "69cb08bd-eaa1-47a0-8d32-6ede417c315f"
      },
      "execution_count": 33,
      "outputs": [
        {
          "output_type": "stream",
          "name": "stdout",
          "text": [
            "mlxtend version: 0.23.4\n"
          ]
        }
      ]
    },
    {
      "cell_type": "code",
      "source": [
        "import mlxtend"
      ],
      "metadata": {
        "id": "i_fD2Uv7HJEc"
      },
      "execution_count": 34,
      "outputs": []
    },
    {
      "cell_type": "code",
      "source": [
        "from torchmetrics import ConfusionMatrix\n",
        "from mlxtend.plotting import plot_confusion_matrix\n",
        "import torch\n",
        "\n",
        "# 2. Setup confusion matrix instance and compare predictions to targets\n",
        "confmat = ConfusionMatrix(num_classes=len(class_names), task='multiclass')\n",
        "confmat_tensor = confmat(preds=y_pred_tensor,\n",
        "                         target=torch.tensor(test_data.targets))\n",
        "\n",
        "# 3. Plot the confusion matrix\n",
        "fig, ax = plot_confusion_matrix(\n",
        "    conf_mat=confmat_tensor.numpy(), # matplotlib likes working with NumPy\n",
        "    class_names=class_names, # turn the row and column labels into class names\n",
        "    figsize=(10, 7)\n",
        ");"
      ],
      "metadata": {
        "colab": {
          "base_uri": "https://localhost:8080/",
          "height": 683
        },
        "id": "hyHf2wrcIh5O",
        "outputId": "3c409073-7a6e-44d0-d7a7-b3ecd39d05d6"
      },
      "execution_count": 35,
      "outputs": [
        {
          "output_type": "display_data",
          "data": {
            "text/plain": [
              "<Figure size 1000x700 with 1 Axes>"
            ],
            "image/png": "[encoded data removed]"
          },
          "metadata": {}
        }
      ]
    },
    {
      "cell_type": "markdown",
      "source": [
        "## Saving the model"
      ],
      "metadata": {
        "id": "4vaEUjBvSWXd"
      }
    },
    {
      "cell_type": "code",
      "source": [
        "from pathlib import Path\n",
        "\n",
        "\n",
        "MODEL_PATH = Path(\"models\")\n",
        "MODEL_PATH.mkdir(parents=True,\n",
        "                 exist_ok=True\n",
        ")\n",
        "\n",
        "MODEL_NAME = \"face_mask_detecton_model.pth\"\n",
        "MODEL_SAVE_PATH = MODEL_PATH / MODEL_NAME\n",
        "\n",
        "print(f\"Saving model to: {MODEL_SAVE_PATH}\")\n",
        "torch.save(obj=model.state_dict(),\n",
        "           f=MODEL_SAVE_PATH)"
      ],
      "metadata": {
        "colab": {
          "base_uri": "https://localhost:8080/"
        },
        "id": "g4wLi23GK0W_",
        "outputId": "8f174248-b2b5-4101-9edb-7aa9d8dc0b1a"
      },
      "execution_count": 42,
      "outputs": [
        {
          "output_type": "stream",
          "name": "stdout",
          "text": [
            "Saving model to: models/face_mask_detecton_model.pth\n"
          ]
        }
      ]
    },
    {
      "cell_type": "markdown",
      "source": [
        "## Evaluating the saved model"
      ],
      "metadata": {
        "id": "Eu74sFGmSZop"
      }
    },
    {
      "cell_type": "code",
      "source": [
        "loaded_model = ResNet18Clone()\n",
        "\n",
        "# Load in the saved state_dict()\n",
        "loaded_model.load_state_dict(torch.load(f=MODEL_SAVE_PATH))\n",
        "\n",
        "# Send model to GPU\n",
        "loaded_model = loaded_model.to(device)"
      ],
      "metadata": {
        "id": "oAXhCUFVPkAi"
      },
      "execution_count": 44,
      "outputs": []
    },
    {
      "cell_type": "code",
      "source": [
        "# Evaluate loaded model\n",
        "loaded_model_results = eval_model(\n",
        "    model=loaded_model,\n",
        "    data_loader=test_loader,\n",
        "    loss_fn=loss_fn,\n",
        "    accuracy_fn=accuracy_fn\n",
        ")\n",
        "\n",
        "loaded_model_results"
      ],
      "metadata": {
        "colab": {
          "base_uri": "https://localhost:8080/"
        },
        "id": "5V_41I21QUkl",
        "outputId": "53342ddf-f13a-496f-b79d-c5abdf0e1215"
      },
      "execution_count": 50,
      "outputs": [
        {
          "output_type": "execute_result",
          "data": {
            "text/plain": [
              "{'model_name': 'ResNet18Clone',\n",
              " 'model_loss': 0.351777046918869,\n",
              " 'model_acc': 93.34935897435898}"
            ]
          },
          "metadata": {},
          "execution_count": 50
        }
      ]
    },
    {
      "cell_type": "code",
      "source": [],
      "metadata": {
        "id": "TgasnvQ0RXNf"
      },
      "execution_count": null,
      "outputs": []
    }
  ]
}
